{
 "cells": [
  {
   "cell_type": "markdown",
   "metadata": {},
   "source": [
    "#### test"
   ]
  },
  {
   "cell_type": "code",
   "execution_count": 2,
   "metadata": {},
   "outputs": [
    {
     "data": {
      "text/plain": [
       "['196\\t242\\t3\\t881250949',\n",
       " '186\\t302\\t3\\t891717742',\n",
       " '22\\t377\\t1\\t878887116',\n",
       " '244\\t51\\t2\\t880606923',\n",
       " '166\\t346\\t1\\t886397596',\n",
       " '298\\t474\\t4\\t884182806',\n",
       " '115\\t265\\t2\\t881171488',\n",
       " '253\\t465\\t5\\t891628467',\n",
       " '305\\t451\\t3\\t886324817',\n",
       " '6\\t86\\t3\\t883603013']"
      ]
     },
     "execution_count": 2,
     "metadata": {},
     "output_type": "execute_result"
    }
   ],
   "source": [
    "from pyspark import SparkConf, SparkContext\n",
    "\n",
    "sc = SparkContext.getOrCreate()\n",
    "my_lines = sc.textFile('popular_movies.txt')\n",
    "my_lines.take(10)"
   ]
  },
  {
   "cell_type": "code",
   "execution_count": 3,
   "metadata": {},
   "outputs": [
    {
     "data": {
      "text/plain": [
       "[(242, 1),\n",
       " (302, 1),\n",
       " (377, 1),\n",
       " (51, 1),\n",
       " (346, 1),\n",
       " (474, 1),\n",
       " (265, 1),\n",
       " (465, 1),\n",
       " (451, 1),\n",
       " (86, 1)]"
      ]
     },
     "execution_count": 3,
     "metadata": {},
     "output_type": "execute_result"
    }
   ],
   "source": [
    "my_movies = my_lines.map(lambda x: (int(x.split()[1]), 1))\n",
    "my_movies.take(10)"
   ]
  },
  {
   "cell_type": "code",
   "execution_count": 4,
   "metadata": {},
   "outputs": [
    {
     "data": {
      "text/plain": [
       "[(242, 117),\n",
       " (302, 297),\n",
       " (346, 126),\n",
       " (474, 194),\n",
       " (86, 150),\n",
       " (1014, 98),\n",
       " (222, 365),\n",
       " (40, 57),\n",
       " (274, 190),\n",
       " (1042, 28)]"
      ]
     },
     "execution_count": 4,
     "metadata": {},
     "output_type": "execute_result"
    }
   ],
   "source": [
    "movie_counts = my_movies.reduceByKey(lambda x, y: x + y)\n",
    "movie_counts.take(10)"
   ]
  },
  {
   "cell_type": "code",
   "execution_count": 5,
   "metadata": {},
   "outputs": [
    {
     "data": {
      "text/plain": [
       "[(117, 242),\n",
       " (297, 302),\n",
       " (126, 346),\n",
       " (194, 474),\n",
       " (150, 86),\n",
       " (98, 1014),\n",
       " (365, 222),\n",
       " (57, 40),\n",
       " (190, 274),\n",
       " (28, 1042)]"
      ]
     },
     "execution_count": 5,
     "metadata": {},
     "output_type": "execute_result"
    }
   ],
   "source": [
    "flipped_op = movie_counts.map(lambda x: (x[1], x[0]))\n",
    "flipped_op.take(10)"
   ]
  },
  {
   "cell_type": "code",
   "execution_count": 6,
   "metadata": {},
   "outputs": [
    {
     "data": {
      "text/plain": [
       "[(1, 1348),\n",
       " (1, 1320),\n",
       " (1, 1492),\n",
       " (1, 1364),\n",
       " (1, 830),\n",
       " (1, 1498),\n",
       " (1, 814),\n",
       " (1, 1520),\n",
       " (1, 1236),\n",
       " (1, 1310)]"
      ]
     },
     "execution_count": 6,
     "metadata": {},
     "output_type": "execute_result"
    }
   ],
   "source": [
    "sorted_movies = flipped_op.sortByKey(ascending=True)\n",
    "sorted_movies.take(10)"
   ]
  },
  {
   "cell_type": "code",
   "execution_count": 11,
   "metadata": {},
   "outputs": [
    {
     "data": {
      "text/plain": [
       "[(1, 1348),\n",
       " (1, 1320),\n",
       " (1, 1492),\n",
       " (1, 1364),\n",
       " (1, 830),\n",
       " (1, 1498),\n",
       " (1, 814),\n",
       " (1, 1520),\n",
       " (1, 1236),\n",
       " (1, 1310)]"
      ]
     },
     "execution_count": 11,
     "metadata": {},
     "output_type": "execute_result"
    }
   ],
   "source": [
    "final_results = sorted_movies.collect()\n",
    "len(final_results)\n",
    "final_results[:10]"
   ]
  }
 ],
 "metadata": {
  "kernelspec": {
   "display_name": "Python 3",
   "language": "python",
   "name": "python3"
  },
  "language_info": {
   "codemirror_mode": {
    "name": "ipython",
    "version": 3
   },
   "file_extension": ".py",
   "mimetype": "text/x-python",
   "name": "python",
   "nbconvert_exporter": "python",
   "pygments_lexer": "ipython3",
   "version": "3.6.8"
  }
 },
 "nbformat": 4,
 "nbformat_minor": 2
}
