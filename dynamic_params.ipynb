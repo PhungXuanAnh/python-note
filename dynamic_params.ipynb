{
 "cells": [
  {
   "cell_type": "markdown",
   "metadata": {},
   "source": [
    "Hướng dẫn truyền tham số cho hàm một cách linh hoạt\n",
    "\n",
    "# Ví dụ \n",
    "\n",
    "hàm add() với 3 tham số\n"
   ]
  },
  {
   "cell_type": "code",
   "execution_count": 1,
   "metadata": {},
   "outputs": [
    {
     "name": "stdout",
     "output_type": "stream",
     "text": [
      "6\n"
     ]
    }
   ],
   "source": [
    "def add(x, y, z):\n",
    "    print(x + y + z)\n",
    "\n",
    "add(1, 2, 3)"
   ]
  },
  {
   "cell_type": "markdown",
   "metadata": {},
   "source": [
    "Trong ví dụ trên hàm add chỉ tính tổng được cho 3 số x, y, z. Vậy nếu muốn tính tổng của một dãy số bất kỳ thì sao, thử truyền nhiều hơn 3 tham số nhá:"
   ]
  },
  {
   "cell_type": "code",
   "execution_count": 7,
   "metadata": {
    "scrolled": true
   },
   "outputs": [
    {
     "ename": "TypeError",
     "evalue": "add() takes 3 positional arguments but 5 were given",
     "output_type": "error",
     "traceback": [
      "\u001b[0;31m---------------------------------------------------------------------------\u001b[0m",
      "\u001b[0;31mTypeError\u001b[0m                                 Traceback (most recent call last)",
      "\u001b[0;32m<ipython-input-7-2088498ee961>\u001b[0m in \u001b[0;36m<module>\u001b[0;34m\u001b[0m\n\u001b[0;32m----> 1\u001b[0;31m \u001b[0madd\u001b[0m\u001b[0;34m(\u001b[0m\u001b[0;36m1\u001b[0m\u001b[0;34m,\u001b[0m \u001b[0;36m2\u001b[0m\u001b[0;34m,\u001b[0m \u001b[0;36m3\u001b[0m\u001b[0;34m,\u001b[0m \u001b[0;36m4\u001b[0m\u001b[0;34m,\u001b[0m \u001b[0;36m5\u001b[0m\u001b[0;34m)\u001b[0m\u001b[0;34m\u001b[0m\u001b[0;34m\u001b[0m\u001b[0m\n\u001b[0m",
      "\u001b[0;31mTypeError\u001b[0m: add() takes 3 positional arguments but 5 were given"
     ]
    }
   ],
   "source": [
    "add(1, 2, 3, 4, 5)"
   ]
  },
  {
   "cell_type": "markdown",
   "metadata": {},
   "source": [
    "Truyền nhiều hơn 3 tham số hơn rõ ràng sẽ bị lỗi, vậy phải làm thế nào. Python cung cấp 2 cách truyền tham số 1 cách linh hoạt, đó là:\n",
    "- *args (Non Keyword Arguments): là 1 list các tham số, kiểu tham số không cần đặt tên\n",
    "- **kwargs (Keyword Arguments) : là 1 dict các tham số, kiểu tham số được đặt tên, lúc này tên tham số là key của dict\n",
    "\n",
    "Hãy xem nó hoạt động như thế nào nhá\n",
    "\n",
    "# *args\n",
    "\n",
    "Trong hàm add() ở trên, chúng ta không biết chắc số lượng tham số  sẽ được truyền vào hàm. Python cho phép dùng *args để truyền một số lượng tham số bất kỳ vào hàm dưới dạng tuple\n"
   ]
  },
  {
   "cell_type": "code",
   "execution_count": 55,
   "metadata": {},
   "outputs": [
    {
     "name": "stdout",
     "output_type": "stream",
     "text": [
      "15\n",
      "10\n",
      "26\n"
     ]
    }
   ],
   "source": [
    "def add(*num):\n",
    "    sum = 0\n",
    "    for n in num:\n",
    "        sum = sum + n\n",
    "    print(sum)\n",
    "    \n",
    "add(1, 2, 3, 4, 5)\n",
    "add(2, 3, 4, 1)\n",
    "add(1, 2, 1, 4, 5, 6, 7)"
   ]
  },
  {
   "cell_type": "markdown",
   "metadata": {},
   "source": [
    "Ta cũng có thể tạo 1 **tuple** rồi truyền vào hàm:"
   ]
  },
  {
   "cell_type": "code",
   "execution_count": 56,
   "metadata": {},
   "outputs": [
    {
     "name": "stdout",
     "output_type": "stream",
     "text": [
      "6\n"
     ]
    }
   ],
   "source": [
    "args = (1, 2, 3)\n",
    "add(*args)"
   ]
  },
  {
   "cell_type": "markdown",
   "metadata": {},
   "source": [
    "# **kwargs\n",
    "\n",
    "Ta có thể dùng *args để truyền 1 danh sách các tham số không đặt tên\n",
    "\n",
    "Vậy để truyền 1 danh sách các tham số mà phải đặt tên các tham số đó thì làm thế nào, Python cung cấp giải pháp sử dụng **kwargs\n",
    "\n",
    "kwargs là một dictionary, với key là tên của các tham số muốn truyền vào, ví dụ:\n"
   ]
  },
  {
   "cell_type": "code",
   "execution_count": 46,
   "metadata": {},
   "outputs": [
    {
     "name": "stdout",
     "output_type": "stream",
     "text": [
      "Data type of argument:  <class 'dict'>\n",
      "kw1 is kw1\n",
      "kw2 is kw2\n",
      "kw3 is kw3\n"
     ]
    }
   ],
   "source": [
    "def vi_du_kwargs(**kwargs):\n",
    "    print(\"Data type of argument: \", type(kwargs))\n",
    "    \n",
    "    for key, value in kwargs.items():\n",
    "        print(\"{} is {}\".format(key, value))\n",
    "        \n",
    "vi_du_kwargs(kw1=\"kw1\", kw2=\"kw2\", kw3=\"kw3\")\n"
   ]
  },
  {
   "cell_type": "markdown",
   "metadata": {},
   "source": [
    "Truyền bao nhiêu kw cũng được, ví dụ:"
   ]
  },
  {
   "cell_type": "code",
   "execution_count": 47,
   "metadata": {},
   "outputs": [
    {
     "name": "stdout",
     "output_type": "stream",
     "text": [
      "Data type of argument:  <class 'dict'>\n",
      "kw1 is kw1\n",
      "kw2 is kw2\n",
      "kw3 is kw3\n",
      "kw4 is kw4\n",
      "kw5 is kw5\n",
      "kw6 is kw6\n"
     ]
    }
   ],
   "source": [
    "vi_du_kwargs(kw1=\"kw1\", kw2=\"kw2\", kw3=\"kw3\", kw4=\"kw4\", kw5=\"kw5\", kw6=\"kw6\")"
   ]
  },
  {
   "cell_type": "markdown",
   "metadata": {},
   "source": [
    "Hoặc có thể tạo một dict các kw và truyền vào:"
   ]
  },
  {
   "cell_type": "code",
   "execution_count": 48,
   "metadata": {},
   "outputs": [
    {
     "name": "stdout",
     "output_type": "stream",
     "text": [
      "Data type of argument:  <class 'dict'>\n",
      "kw1 is kw1\n",
      "kw2 is kw2\n",
      "kw3 is kw3\n"
     ]
    }
   ],
   "source": [
    "dict_kwargs = {\n",
    "    \"kw1\": \"kw1\",\n",
    "    \"kw2\": \"kw2\",\n",
    "    \"kw3\": \"kw3\"\n",
    "}\n",
    "vi_du_kwargs(**dict_kwargs)"
   ]
  },
  {
   "cell_type": "markdown",
   "metadata": {},
   "source": [
    "# Kết hợp cả 2 cách truyền tham số trên với cách thông thường\n",
    "\n",
    "thự tự khai báo phải như sau, trong python3:"
   ]
  },
  {
   "cell_type": "code",
   "execution_count": 50,
   "metadata": {},
   "outputs": [
    {
     "name": "stdout",
     "output_type": "stream",
     "text": [
      "arg1:  arg1\n",
      "kw1:  kw1\n",
      "arg2\n",
      "arg3\n",
      "kw2: kw2\n",
      "kw3: kw3\n"
     ]
    }
   ],
   "source": [
    "def ket_hop(arg1, *args, kw1=None, **kwargs):\n",
    "    print(\"arg1: \", arg1)\n",
    "    print(\"kw1: \", kw1)\n",
    "    \n",
    "    for arg in args:\n",
    "        print(arg)\n",
    "    \n",
    "    for key, value in kwargs.items():\n",
    "        print(\"{}: {}\".format(key, value))\n",
    "        \n",
    "        \n",
    "ARGS1 = (\"arg1\", \"arg2\", \"arg3\")\n",
    "KWARGS1 = {\n",
    "    \"kw1\": \"kw1\",\n",
    "    \"kw2\": \"kw2\",\n",
    "    \"kw3\": \"kw3\"\n",
    "}\n",
    "\n",
    "ket_hop(*ARGS1, **KWARGS1)"
   ]
  },
  {
   "cell_type": "markdown",
   "metadata": {},
   "source": [
    "khi không có các tham số cần thiết trong **ARGS** hoặc **KWARGS**, ta có thể truyền vào theo cách thông thường\n"
   ]
  },
  {
   "cell_type": "code",
   "execution_count": 51,
   "metadata": {},
   "outputs": [
    {
     "name": "stdout",
     "output_type": "stream",
     "text": [
      "arg1:  arg1\n",
      "kw1:  kw1\n",
      "arg2\n",
      "arg3\n",
      "kw2: kw2\n",
      "kw3: kw3\n"
     ]
    }
   ],
   "source": [
    "ARGS0 = (\"arg2\", \"arg3\")\n",
    "KWARGS0 = {\n",
    "    \"kw2\": \"kw2\",\n",
    "    \"kw3\": \"kw3\"\n",
    "}\n",
    "ket_hop('arg1', *ARGS0, kw1=\"kw1\", **KWARGS0)"
   ]
  },
  {
   "cell_type": "markdown",
   "metadata": {},
   "source": [
    "Nếu truyền **arg1** theo cách thông thường, mà trong **ARGS** có **arg1** thì lúc này **arg1** được truyền 2 lần, xem bên dưới, **arg1** sẽ được in ra 2 lần"
   ]
  },
  {
   "cell_type": "code",
   "execution_count": 52,
   "metadata": {},
   "outputs": [
    {
     "name": "stdout",
     "output_type": "stream",
     "text": [
      "arg1:  arg1\n",
      "kw1:  kw1\n",
      "arg1\n",
      "arg2\n",
      "arg3\n",
      "kw2: kw2\n",
      "kw3: kw3\n"
     ]
    }
   ],
   "source": [
    "ket_hop('arg1', *ARGS1, kw1=\"kw1\", **KWARGS0)"
   ]
  },
  {
   "cell_type": "markdown",
   "metadata": {},
   "source": [
    "Nhưng nếu truyền **kw1** theo cách thông thường mà trong **KWARGS** cũng chứa **kw1**, sẽ báo lỗi, xem bên dưới"
   ]
  },
  {
   "cell_type": "code",
   "execution_count": 53,
   "metadata": {},
   "outputs": [
    {
     "ename": "TypeError",
     "evalue": "ket_hop() got multiple values for keyword argument 'kw1'",
     "output_type": "error",
     "traceback": [
      "\u001b[0;31m---------------------------------------------------------------------------\u001b[0m",
      "\u001b[0;31mTypeError\u001b[0m                                 Traceback (most recent call last)",
      "\u001b[0;32m<ipython-input-53-186d44b6f985>\u001b[0m in \u001b[0;36m<module>\u001b[0;34m\u001b[0m\n\u001b[0;32m----> 1\u001b[0;31m \u001b[0mket_hop\u001b[0m\u001b[0;34m(\u001b[0m\u001b[0;34m'arg1'\u001b[0m\u001b[0;34m,\u001b[0m \u001b[0;34m*\u001b[0m\u001b[0mARGS0\u001b[0m\u001b[0;34m,\u001b[0m \u001b[0mkw1\u001b[0m\u001b[0;34m=\u001b[0m\u001b[0;34m\"kw1\"\u001b[0m\u001b[0;34m,\u001b[0m \u001b[0;34m**\u001b[0m\u001b[0mKWARGS1\u001b[0m\u001b[0;34m)\u001b[0m\u001b[0;34m\u001b[0m\u001b[0;34m\u001b[0m\u001b[0m\n\u001b[0m",
      "\u001b[0;31mTypeError\u001b[0m: ket_hop() got multiple values for keyword argument 'kw1'"
     ]
    }
   ],
   "source": [
    "ket_hop('arg1', *ARGS0, kw1=\"kw1\", **KWARGS1)"
   ]
  },
  {
   "cell_type": "markdown",
   "metadata": {},
   "source": [
    "# Kết luận\n",
    "- **args* và **kwargs là những cách cho phép hàm nhận các đối số với số lượng đối số không xác định\n",
    "- *args truyền một danh sách các đối số không đặt tên (non-keyword), dạng tuple\n",
    "- **kwargs truyền một danh cách đối số được đặt tên (keywork), dạng dictionary\n",
    "- **args* và **kwargs làm cho hàm trở lên mềm dẻo hơn"
   ]
  }
 ],
 "metadata": {
  "kernelspec": {
   "display_name": "Python 3",
   "language": "python",
   "name": "python3"
  },
  "language_info": {
   "codemirror_mode": {
    "name": "ipython",
    "version": 3
   },
   "file_extension": ".py",
   "mimetype": "text/x-python",
   "name": "python",
   "nbconvert_exporter": "python",
   "pygments_lexer": "ipython3",
   "version": "3.6.6"
  }
 },
 "nbformat": 4,
 "nbformat_minor": 2
}
