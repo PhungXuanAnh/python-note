{
 "cells": [
  {
   "cell_type": "markdown",
   "metadata": {},
   "source": [
    "# Ví dụ \n",
    "\n",
    "hàm add() với 3 số\n"
   ]
  },
  {
   "cell_type": "code",
   "execution_count": 1,
   "metadata": {},
   "outputs": [
    {
     "name": "stdout",
     "output_type": "stream",
     "text": [
      "6\n"
     ]
    }
   ],
   "source": [
    "def add(x, y, z):\n",
    "    print(x + y + z)\n",
    "\n",
    "add(1, 2, 3)"
   ]
  },
  {
   "cell_type": "markdown",
   "metadata": {},
   "source": [
    "Trong ví dụ trên hàm add dùng 3 tham số là x, y, z. Vậy nếu muốn dùng nhiều hơn 3 tham số thì sao, hãy xem:"
   ]
  },
  {
   "cell_type": "code",
   "execution_count": 7,
   "metadata": {
    "scrolled": true
   },
   "outputs": [
    {
     "ename": "TypeError",
     "evalue": "add() takes 3 positional arguments but 5 were given",
     "output_type": "error",
     "traceback": [
      "\u001b[0;31m---------------------------------------------------------------------------\u001b[0m",
      "\u001b[0;31mTypeError\u001b[0m                                 Traceback (most recent call last)",
      "\u001b[0;32m<ipython-input-7-2088498ee961>\u001b[0m in \u001b[0;36m<module>\u001b[0;34m\u001b[0m\n\u001b[0;32m----> 1\u001b[0;31m \u001b[0madd\u001b[0m\u001b[0;34m(\u001b[0m\u001b[0;36m1\u001b[0m\u001b[0;34m,\u001b[0m \u001b[0;36m2\u001b[0m\u001b[0;34m,\u001b[0m \u001b[0;36m3\u001b[0m\u001b[0;34m,\u001b[0m \u001b[0;36m4\u001b[0m\u001b[0;34m,\u001b[0m \u001b[0;36m5\u001b[0m\u001b[0;34m)\u001b[0m\u001b[0;34m\u001b[0m\u001b[0;34m\u001b[0m\u001b[0m\n\u001b[0m",
      "\u001b[0;31mTypeError\u001b[0m: add() takes 3 positional arguments but 5 were given"
     ]
    }
   ],
   "source": [
    "add(1, 2, 3, 4, 5)"
   ]
  },
  {
   "cell_type": "markdown",
   "metadata": {},
   "source": [
    "Truyền nhiều hơn 3 tham số hơn rõ ràng sẽ bị lỗi, vậy phải làm thế nào. Lúc này ta sẽ cần sử dụng tới **args* và **kwargs\n",
    "\n",
    "Vậy 2 thằng trên là cái gì:\n",
    "- *args (Non Keyword Arguments): là 1 list các tham số, kiểu tham số không cần đặt tên\n",
    "- **kwargs (Keyword Arguments) : là 1 dict các tham số, kiểu tham số được đặt tên, lúc này tên tham số là key của dict\n",
    "\n",
    "Hãy xem nó hoạt động như thế nào nhá\n",
    "\n",
    "# *args\n",
    "\n",
    "Trong hàm add() ở trên, chúng ta không biết chắc số lượng tham số  sẽ được truyền vào hàm. Python cho phép dùng *args để truyền một số lượng tham số bất kỳ vào hàm dưới dạng tuple\n"
   ]
  },
  {
   "cell_type": "code",
   "execution_count": 11,
   "metadata": {},
   "outputs": [
    {
     "name": "stdout",
     "output_type": "stream",
     "text": [
      "15\n",
      "10\n",
      "26\n",
      "6\n"
     ]
    }
   ],
   "source": [
    "def add(*num):\n",
    "    sum = 0\n",
    "    for n in num:\n",
    "        sum = sum + n\n",
    "    print(sum)\n",
    "    \n",
    "add(1, 2, 3, 4, 5)\n",
    "add(2, 3, 4, 1)\n",
    "add(1, 2, 1, 4, 5, 6, 7)\n",
    "\n",
    "args = (1, 2, 3)\n",
    "add(*args)"
   ]
  },
  {
   "cell_type": "markdown",
   "metadata": {},
   "source": [
    "# **kwargs\n",
    "\n",
    "Ta có thể dùng *args để truyền 1 danh sách các tham số không đặt tên\n",
    "\n",
    "Vậy để truyền 1 danh sách các tham số mà phải đặt tên các tham số đó thì làm thế nào, Python cung cấp giải pháp sử dụng **kwargs\n",
    "\n",
    "kwargs là một dictionary, với key là tên của các tham số muốn truyền vào, ví dụ:\n"
   ]
  },
  {
   "cell_type": "code",
   "execution_count": 14,
   "metadata": {},
   "outputs": [
    {
     "name": "stdout",
     "output_type": "stream",
     "text": [
      "Data type of argument:  <class 'dict'>\n",
      "Firstname is Sita\n",
      "Lastname is Sharma\n",
      "Age is 22\n",
      "Phone is 1234567890\n",
      "-----------------------------------------------\n",
      "Data type of argument:  <class 'dict'>\n",
      "Firstname is John\n",
      "Lastname is Wood\n",
      "Email is johnwood@nomail.com\n",
      "Country is Wakanda\n",
      "Age is 25\n",
      "Phone is 9876543210\n",
      "-----------------------------------------------\n",
      "Data type of argument:  <class 'dict'>\n",
      "first_name is phan\n",
      "last_name is van a\n",
      "age is 100\n"
     ]
    }
   ],
   "source": [
    "def introduce(**data):\n",
    "    print(\"Data type of argument: \", type(data))\n",
    "    \n",
    "    for key, value in data.items():\n",
    "        print(\"{} is {}\".format(key, value))\n",
    "        \n",
    "introduce(Firstname=\"Sita\", \n",
    "          Lastname=\"Sharma\", \n",
    "          Age=22, \n",
    "          Phone=1234567890)\n",
    "print('-----------------------------------------------')\n",
    "introduce(Firstname=\"John\", \n",
    "          Lastname=\"Wood\", \n",
    "          Email=\"johnwood@nomail.com\", \n",
    "          Country=\"Wakanda\", \n",
    "          Age=25, \n",
    "          Phone=9876543210)\n",
    "print('-----------------------------------------------')\n",
    "profiles = {\n",
    "    \"first_name\": \"phan\",\n",
    "    \"last_name\": \"van a\",\n",
    "    \"age\": 100\n",
    "}\n",
    "introduce(**profiles)"
   ]
  },
  {
   "cell_type": "markdown",
   "metadata": {},
   "source": [
    "# Kết luận\n",
    "- **args* và **kwargs là những cách cho phép hàm nhận các đối số với số lượng đối số không xác định\n",
    "- *args truyền một danh sách các đối số không đặt tên (non-keyword), dạng tuple\n",
    "- **kwargs truyền một danh cách đối số được đặt tên (keywork), dạng dictionary\n",
    "- **args* và **kwargs làm cho hàm trở lên mềm dẻo hơn"
   ]
  }
 ],
 "metadata": {
  "kernelspec": {
   "display_name": "Python 3",
   "language": "python",
   "name": "python3"
  },
  "language_info": {
   "codemirror_mode": {
    "name": "ipython",
    "version": 3
   },
   "file_extension": ".py",
   "mimetype": "text/x-python",
   "name": "python",
   "nbconvert_exporter": "python",
   "pygments_lexer": "ipython3",
   "version": "3.6.6"
  }
 },
 "nbformat": 4,
 "nbformat_minor": 2
}
