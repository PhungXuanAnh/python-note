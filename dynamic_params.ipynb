{
 "cells": [
  {
   "cell_type": "markdown",
   "metadata": {},
   "source": [
    "# Ví dụ \n",
    "\n",
    "hàm add() với 3 số\n"
   ]
  },
  {
   "cell_type": "code",
   "execution_count": 1,
   "metadata": {},
   "outputs": [
    {
     "name": "stdout",
     "output_type": "stream",
     "text": [
      "6\n"
     ]
    }
   ],
   "source": [
    "def add(x, y, z):\n",
    "    print(x + y + z)\n",
    "\n",
    "add(1, 2, 3)"
   ]
  },
  {
   "cell_type": "markdown",
   "metadata": {},
   "source": [
    "Trong ví dụ trên hàm add dùng 3 tham số là x, y, z. Vậy nếu muốn dùng nhiều hơn 3 tham số thì sao, hãy xem:"
   ]
  },
  {
   "cell_type": "code",
   "execution_count": 7,
   "metadata": {
    "scrolled": true
   },
   "outputs": [
    {
     "ename": "TypeError",
     "evalue": "add() takes 3 positional arguments but 5 were given",
     "output_type": "error",
     "traceback": [
      "\u001b[0;31m---------------------------------------------------------------------------\u001b[0m",
      "\u001b[0;31mTypeError\u001b[0m                                 Traceback (most recent call last)",
      "\u001b[0;32m<ipython-input-7-2088498ee961>\u001b[0m in \u001b[0;36m<module>\u001b[0;34m\u001b[0m\n\u001b[0;32m----> 1\u001b[0;31m \u001b[0madd\u001b[0m\u001b[0;34m(\u001b[0m\u001b[0;36m1\u001b[0m\u001b[0;34m,\u001b[0m \u001b[0;36m2\u001b[0m\u001b[0;34m,\u001b[0m \u001b[0;36m3\u001b[0m\u001b[0;34m,\u001b[0m \u001b[0;36m4\u001b[0m\u001b[0;34m,\u001b[0m \u001b[0;36m5\u001b[0m\u001b[0;34m)\u001b[0m\u001b[0;34m\u001b[0m\u001b[0;34m\u001b[0m\u001b[0m\n\u001b[0m",
      "\u001b[0;31mTypeError\u001b[0m: add() takes 3 positional arguments but 5 were given"
     ]
    }
   ],
   "source": [
    "add(1, 2, 3, 4, 5)"
   ]
  },
  {
   "cell_type": "markdown",
   "metadata": {},
   "source": [
    "Truyền nhiều hơn 3 tham số hơn rõ ràng sẽ bị lỗi, vậy phải làm thế nào. Lúc này ta sẽ cần sử dụng tới **args* và **kwargs\n",
    "\n",
    "Vậy 2 thằng trên là cái gì:\n",
    "- *args (Non Keyword Arguments): là 1 list các tham số, kiểu tham số không cần đặt tên\n",
    "- **kwargs (Keyword Arguments) : là 1 dict các tham số, kiểu tham số được đặt tên, lúc này tên tham số là key của dict\n",
    "\n",
    "Hãy xem nó hoạt động như thế nào nhá\n",
    "\n",
    "# *args\n",
    "\n",
    "Trong hàm add() ở trên, chúng ta không biết chắc số lượng tham số  sẽ được truyền vào hàm. Python cho phép dùng *args để truyền một số lượng tham số bất kỳ vào hàm dưới dạng tuple\n"
   ]
  },
  {
   "cell_type": "code",
   "execution_count": 11,
   "metadata": {},
   "outputs": [
    {
     "name": "stdout",
     "output_type": "stream",
     "text": [
      "15\n",
      "10\n",
      "26\n",
      "6\n"
     ]
    }
   ],
   "source": [
    "def add(*num):\n",
    "    sum = 0\n",
    "    for n in num:\n",
    "        sum = sum + n\n",
    "    print(sum)\n",
    "    \n",
    "add(1, 2, 3, 4, 5)\n",
    "add(2, 3, 4, 1)\n",
    "add(1, 2, 1, 4, 5, 6, 7)\n",
    "\n",
    "args = (1, 2, 3)\n",
    "add(*args)"
   ]
  },
  {
   "cell_type": "markdown",
   "metadata": {},
   "source": [
    "# **kwargs\n",
    "\n",
    "Ta có thể dùng *args để truyền 1 danh sách các tham số không đặt tên\n",
    "\n",
    "Vậy để truyền 1 danh sách các tham số mà phải đặt tên các tham số đó thì làm thế nào, Python cung cấp giải pháp sử dụng **kwargs\n",
    "\n",
    "kwargs là một dictionary, với key là tên của các tham số muốn truyền vào, ví dụ:\n"
   ]
  },
  {
   "cell_type": "code",
   "execution_count": 3,
   "metadata": {},
   "outputs": [
    {
     "name": "stdout",
     "output_type": "stream",
     "text": [
      "Data type of argument:  <class 'dict'>\n",
      "Firstname is Sita\n",
      "Lastname is Sharma\n",
      "Age is 22\n",
      "Phone is 1234567890\n",
      "-----------------------------------------------\n",
      "Data type of argument:  <class 'dict'>\n",
      "Firstname is John\n",
      "Lastname is Wood\n",
      "Email is johnwood@nomail.com\n",
      "Country is Wakanda\n",
      "Age is 25\n",
      "Phone is 9876543210\n",
      "-----------------------------------------------\n",
      "Data type of argument:  <class 'dict'>\n",
      "first_name is phan\n",
      "last_name is van a\n",
      "age is 100\n"
     ]
    }
   ],
   "source": [
    "def introduce(**data):\n",
    "    print(\"Data type of argument: \", type(data))\n",
    "    \n",
    "    for key, value in data.items():\n",
    "        print(\"{} is {}\".format(key, value))\n",
    "        \n",
    "introduce(Firstname=\"Sita\", \n",
    "          Lastname=\"Sharma\", \n",
    "          Age=22, \n",
    "          Phone=1234567890)\n",
    "print('-----------------------------------------------')\n",
    "introduce(Firstname=\"John\", \n",
    "          Lastname=\"Wood\", \n",
    "          Email=\"johnwood@nomail.com\", \n",
    "          Country=\"Wakanda\", \n",
    "          Age=25, \n",
    "          Phone=9876543210)\n",
    "print('-----------------------------------------------')\n",
    "profiles = {\n",
    "    \"first_name\": \"phan\",\n",
    "    \"last_name\": \"van a\",\n",
    "    \"age\": 100\n",
    "}\n",
    "introduce(**profiles)"
   ]
  },
  {
   "cell_type": "markdown",
   "metadata": {},
   "source": [
    "# Kết hợp cả 2 cách sử dụng trên với cách thông thường"
   ]
  },
  {
   "cell_type": "code",
   "execution_count": 36,
   "metadata": {},
   "outputs": [
    {
     "name": "stdout",
     "output_type": "stream",
     "text": [
      "arg1:  arg1\n",
      "kw1:  kw1\n",
      "arg2\n",
      "arg3\n",
      "kw2: kw2\n",
      "kw3: kw3\n"
     ]
    }
   ],
   "source": [
    "def hoc_sinh(arg1, *args, kw1=None, **kwargs):\n",
    "    print(\"arg1: \", arg1)\n",
    "    print(\"kw1: \", kw1)\n",
    "    \n",
    "    for arg in args:\n",
    "        print(arg)\n",
    "    \n",
    "    for key, value in kwargs.items():\n",
    "        print(\"{}: {}\".format(key, value))\n",
    "        \n",
    "        \n",
    "ARGS1 = (\"arg1\", \"arg2\", \"arg3\")\n",
    "KWARGS1 = {\n",
    "    \"kw1\": \"kw1\",\n",
    "    \"kw2\": \"kw2\",\n",
    "    \"kw3\": \"kw3\"\n",
    "}\n",
    "\n",
    "hoc_sinh(*ARGS1, **KWARGS1)\n",
    "\n",
    "\n",
    "\n"
   ]
  },
  {
   "cell_type": "markdown",
   "metadata": {},
   "source": [
    "khi không có các tham số cần thiết trong **ARGS** hoặc **KWARGS**, ta có thể truyền vào theo cách thông thường\n"
   ]
  },
  {
   "cell_type": "code",
   "execution_count": 45,
   "metadata": {},
   "outputs": [
    {
     "name": "stdout",
     "output_type": "stream",
     "text": [
      "arg1:  arg1\n",
      "kw1:  kw1\n",
      "arg2\n",
      "arg3\n",
      "kw2: kw2\n",
      "kw3: kw3\n"
     ]
    }
   ],
   "source": [
    "ARGS0 = (\"arg2\", \"arg3\")\n",
    "KWARGS0 = {\n",
    "    \"kw2\": \"kw2\",\n",
    "    \"kw3\": \"kw3\"\n",
    "}\n",
    "hoc_sinh('arg1', *ARGS0, kw1=\"kw1\", **KWARGS0)"
   ]
  },
  {
   "cell_type": "markdown",
   "metadata": {},
   "source": [
    "Nếu truyền **arg1** theo cách thông thường, mà trong **ARGS** có **arg1** thì lúc này **arg1** được truyền 2 lần, xem bên dưới, **arg1** sẽ được in ra 2 lần"
   ]
  },
  {
   "cell_type": "code",
   "execution_count": 44,
   "metadata": {},
   "outputs": [
    {
     "name": "stdout",
     "output_type": "stream",
     "text": [
      "arg1:  arg1\n",
      "kw1:  kw1\n",
      "arg1\n",
      "arg2\n",
      "arg3\n",
      "kw2: kw2\n",
      "kw3: kw3\n"
     ]
    }
   ],
   "source": [
    "hoc_sinh('arg1', *ARGS1, kw1=\"kw1\", **KWARGS0)"
   ]
  },
  {
   "cell_type": "markdown",
   "metadata": {},
   "source": [
    "Nhưng nếu truyền **kw1** theo cách thông thường mà trong **KWARGS** cũng chứa **kw1**, sẽ báo lỗi, xem bên dưới"
   ]
  },
  {
   "cell_type": "code",
   "execution_count": 40,
   "metadata": {},
   "outputs": [
    {
     "ename": "TypeError",
     "evalue": "hoc_sinh() got multiple values for keyword argument 'kw1'",
     "output_type": "error",
     "traceback": [
      "\u001b[0;31m---------------------------------------------------------------------------\u001b[0m",
      "\u001b[0;31mTypeError\u001b[0m                                 Traceback (most recent call last)",
      "\u001b[0;32m<ipython-input-40-4dfd0c1d9a51>\u001b[0m in \u001b[0;36m<module>\u001b[0;34m\u001b[0m\n\u001b[0;32m----> 1\u001b[0;31m \u001b[0mhoc_sinh\u001b[0m\u001b[0;34m(\u001b[0m\u001b[0;34m'arg1'\u001b[0m\u001b[0;34m,\u001b[0m \u001b[0;34m*\u001b[0m\u001b[0mARGS0\u001b[0m\u001b[0;34m,\u001b[0m \u001b[0mkw1\u001b[0m\u001b[0;34m=\u001b[0m\u001b[0;34m\"kw1\"\u001b[0m\u001b[0;34m,\u001b[0m \u001b[0;34m**\u001b[0m\u001b[0mKWARGS1\u001b[0m\u001b[0;34m)\u001b[0m\u001b[0;34m\u001b[0m\u001b[0;34m\u001b[0m\u001b[0m\n\u001b[0m",
      "\u001b[0;31mTypeError\u001b[0m: hoc_sinh() got multiple values for keyword argument 'kw1'"
     ]
    }
   ],
   "source": [
    "hoc_sinh('arg1', *ARGS0, kw1=\"kw1\", **KWARGS1)"
   ]
  },
  {
   "cell_type": "markdown",
   "metadata": {},
   "source": [
    "# Kết luận\n",
    "- **args* và **kwargs là những cách cho phép hàm nhận các đối số với số lượng đối số không xác định\n",
    "- *args truyền một danh sách các đối số không đặt tên (non-keyword), dạng tuple\n",
    "- **kwargs truyền một danh cách đối số được đặt tên (keywork), dạng dictionary\n",
    "- **args* và **kwargs làm cho hàm trở lên mềm dẻo hơn"
   ]
  }
 ],
 "metadata": {
  "kernelspec": {
   "display_name": "Python 3",
   "language": "python",
   "name": "python3"
  },
  "language_info": {
   "codemirror_mode": {
    "name": "ipython",
    "version": 3
   },
   "file_extension": ".py",
   "mimetype": "text/x-python",
   "name": "python",
   "nbconvert_exporter": "python",
   "pygments_lexer": "ipython3",
   "version": "3.6.6"
  }
 },
 "nbformat": 4,
 "nbformat_minor": 2
}
